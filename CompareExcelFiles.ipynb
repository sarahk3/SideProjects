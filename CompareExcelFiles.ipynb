{
 "cells": [
  {
   "cell_type": "code",
   "execution_count": 1,
   "metadata": {
    "collapsed": false
   },
   "outputs": [
    {
     "data": {
      "text/html": [
       "<div>\n",
       "<table border=\"1\" class=\"dataframe\">\n",
       "  <thead>\n",
       "    <tr style=\"text-align: right;\">\n",
       "      <th></th>\n",
       "      <th>Name</th>\n",
       "      <th>Status</th>\n",
       "    </tr>\n",
       "    <tr>\n",
       "      <th>ID</th>\n",
       "      <th></th>\n",
       "      <th></th>\n",
       "    </tr>\n",
       "  </thead>\n",
       "  <tbody>\n",
       "    <tr>\n",
       "      <th>9403</th>\n",
       "      <td>VVV</td>\n",
       "      <td>Pending -------&gt;Pass</td>\n",
       "    </tr>\n",
       "    <tr>\n",
       "      <th>1065</th>\n",
       "      <td>WWW</td>\n",
       "      <td>Pending -------&gt;Fail</td>\n",
       "    </tr>\n",
       "  </tbody>\n",
       "</table>\n",
       "</div>"
      ],
      "text/plain": [
       "     Name                Status\n",
       "ID                             \n",
       "9403  VVV  Pending ------->Pass\n",
       "1065  WWW  Pending ------->Fail"
      ]
     },
     "execution_count": 1,
     "metadata": {},
     "output_type": "execute_result"
    }
   ],
   "source": [
    "# Sample version of excel compare for github\n",
    "\n",
    "# import pandas and numpy\n",
    "import pandas as pd\n",
    "import numpy as np\n",
    "\n",
    "# define the diff function that will highlight any changes\n",
    "def show_diff(x):\n",
    "    return x[0] if x[0] == x[1] else'{} ------->{}'.format(*x)\n",
    "\n",
    "\n",
    "# read in the files\n",
    "\n",
    "old = pd.read_excel('StudentTestA.xlsx', 'StudentPass', na_values='NA', encoding='utf-8')\n",
    "\n",
    "new = pd.read_excel('StudentTestB.xlsx', 'StudentPass', na_values='NA', encoding='utf-8')\n",
    "\n",
    "\n",
    "\n",
    "# Rename the columns, just for practice of renaming, to ensure they are all the same\n",
    "old = old.rename(columns={'StudentName':'Name', 'StudentID': 'ID'})\n",
    "\n",
    "\n",
    "new = new.rename(columns={'StudentName':'Name', 'Student Identifier': 'ID'})\n",
    "\n",
    "\n",
    "# take a subset of the rows we care about\n",
    "new = new[['Name', 'ID', 'Status']]\n",
    "old = old[['Name', 'ID', 'Status']]\n",
    "\n",
    "\n",
    "# add a column to track which version the records are in when we add the dataframes together\n",
    "old['Version'] = \"old\"\n",
    "new['Version'] = 'new'\n",
    "\n",
    "# consolidate all the data together\n",
    "full_file = pd.concat([old, new], ignore_index=True)\n",
    "\n",
    "\n",
    "\n",
    "# see the changes in the main columns we care about\n",
    "changes = full_file.drop_duplicates(subset=['Name', 'ID', 'Status'], keep= 'last')\n",
    "\n",
    "\n",
    "# get all the duplicate rows\n",
    "duplicates = changes.set_index(['ID']).index.get_duplicates()\n",
    "\n",
    "\n",
    "# get all the duplicates ID\n",
    "dupes = changes[changes['ID'].isin(duplicates)]\n",
    "\n",
    "# Create 2 dataframes to split them into the old and new file\n",
    "changes_new = dupes[(dupes[\"Version\"]==\"new\")]\n",
    "changes_old = dupes[(dupes[\"Version\"]==\"old\")]\n",
    "\n",
    "#  no longer need the version column in the changes_old/new DF since they're separated out\n",
    "changes_new = changes_new.drop([\"Version\"], axis=1) # axis 1 means it will apply to all rows\n",
    "changes_old = changes_old.drop([\"Version\"], axis=1)\n",
    "\n",
    "\n",
    "# index on the ID\n",
    "changes_old.set_index([\"ID\"], inplace=True) # inplace=True modifies the existing df rather than create a new object\n",
    "\n",
    "changes_new.set_index([\"ID\"], inplace=True)\n",
    "\n",
    "\n",
    "\n",
    "# create a file to show the old and new changes\n",
    "changes_old.to_excel('changes_old_ascii.xlsx')\n",
    "changes_new.to_excel('changes_new_ascii.xlsx')\n",
    "\n",
    "# run the diff function as the data is now structured in the right way\n",
    "diff_data = pd.Panel(dict(df1=changes_old, df2=changes_new))\n",
    "\n",
    "diff_output = diff_data.apply(show_diff, axis=0)\n",
    "diff_output"
   ]
  },
  {
   "cell_type": "code",
   "execution_count": 2,
   "metadata": {
    "collapsed": true
   },
   "outputs": [],
   "source": [
    "diff_output.to_excel('StudentChanges.xlsx')"
   ]
  },
  {
   "cell_type": "code",
   "execution_count": null,
   "metadata": {
    "collapsed": true
   },
   "outputs": [],
   "source": []
  }
 ],
 "metadata": {
  "anaconda-cloud": {},
  "kernelspec": {
   "display_name": "Python [default]",
   "language": "python",
   "name": "python2"
  },
  "language_info": {
   "codemirror_mode": {
    "name": "ipython",
    "version": 2
   },
   "file_extension": ".py",
   "mimetype": "text/x-python",
   "name": "python",
   "nbconvert_exporter": "python",
   "pygments_lexer": "ipython2",
   "version": "2.7.12"
  }
 },
 "nbformat": 4,
 "nbformat_minor": 1
}
